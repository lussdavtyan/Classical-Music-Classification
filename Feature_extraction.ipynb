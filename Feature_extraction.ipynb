{
 "cells": [
  {
   "cell_type": "code",
   "execution_count": 5,
   "metadata": {},
   "outputs": [],
   "source": [
    "import numpy as np\n",
    "import pandas as pd\n",
    "from tqdm import tqdm\n",
    "import pickle\n",
    "import music21\n",
    "from sklearn.neighbors import KNeighborsClassifier\n",
    "from sklearn.svm import SVC, LinearSVC\n",
    "from sklearn.linear_model import LogisticRegression\n",
    "from sklearn.tree import DecisionTreeClassifier\n",
    "from sklearn.ensemble import RandomForestClassifier"
   ]
  },
  {
   "cell_type": "code",
   "execution_count": 6,
   "metadata": {},
   "outputs": [],
   "source": [
    "# The data folder should be in the same directory as the code or you should specify the path.\n",
    "\n",
    "df = pd.read_csv('data/maestro-v2.0.0.csv')\n",
    "df['audio_filename'] = df['audio_filename'].str[5:-3] + 'midi'\n",
    "df.set_index('audio_filename', inplace=True)\n",
    "classes = ['Baroque', 'Classical', 'Romantic', 'Modern']\n",
    "classifier = 'period'\n",
    "class_dist = df.groupby(classifier).period.agg('count').to_frame('countt')"
   ]
  },
  {
   "cell_type": "code",
   "execution_count": 8,
   "metadata": {},
   "outputs": [
    {
     "name": "stderr",
     "output_type": "stream",
     "text": [
      " 82%|████████▏ | 1049/1282 [15:26:09<5:16:09, 81.41s/it]  /home/SFLPRO/lusine.davtyan/.local/lib/python3.8/site-packages/joblib/externals/loky/process_executor.py:688: UserWarning: A worker stopped while some jobs were given to the executor. This can be caused by a too short worker timeout or by a memory leak.\n",
      "  warnings.warn(\n",
      "100%|██████████| 1282/1282 [20:10:51<00:00, 56.67s/it]    \n"
     ]
    }
   ],
   "source": [
    "# This cell takes a very long time to run :) To make your work easier, we have saved the results in the\n",
    "# corresponding pickle files.\n",
    "\n",
    "X_train = []\n",
    "X_validation = []\n",
    "X_test = []\n",
    "y_train = []\n",
    "y_validation = []\n",
    "y_test = []\n",
    "\n",
    "for filename in tqdm(df.index):\n",
    "    file = music21.converter.parse('data/maestro-v2.0.0-midi/' + filename)\n",
    "    s = music21.stream.Stream(file)\n",
    "    ds = music21.features.DataSet(classLabel=classifier)\n",
    "    f = [music21.features.jSymbolic.AmountOfArpeggiationFeature,\n",
    "         music21.features.jSymbolic.AverageMelodicIntervalFeature,\n",
    "         music21.features.jSymbolic.AverageNumberOfIndependentVoicesFeature,\n",
    "         music21.features.jSymbolic.AverageNoteDurationFeature,\n",
    "         music21.features.jSymbolic.AverageRangeOfGlissandosFeature,\n",
    "         music21.features.jSymbolic.AverageTimeBetweenAttacksFeature,\n",
    "         music21.features.jSymbolic.AverageTimeBetweenAttacksForEachVoiceFeature,\n",
    "         music21.features.jSymbolic.BasicPitchHistogramFeature,\n",
    "         music21.features.jSymbolic.ChangesOfMeterFeature,\n",
    "         music21.features.jSymbolic.ChromaticMotionFeature,\n",
    "         music21.features.jSymbolic.CombinedStrengthOfTwoStrongestRhythmicPulsesFeature,\n",
    "         music21.features.jSymbolic.DirectionOfMotionFeature,\n",
    "         music21.features.jSymbolic.DistanceBetweenMostCommonMelodicIntervalsFeature,\n",
    "         music21.features.jSymbolic.DurationOfMelodicArcsFeature,\n",
    "         music21.features.jSymbolic.FifthsPitchHistogramFeature,\n",
    "         music21.features.jSymbolic.HarmonicityOfTwoStrongestRhythmicPulsesFeature,\n",
    "         music21.features.jSymbolic.ImportanceOfBassRegisterFeature,\n",
    "         music21.features.jSymbolic.ImportanceOfHighRegisterFeature,\n",
    "         music21.features.jSymbolic.ImportanceOfMiddleRegisterFeature,\n",
    "         music21.features.jSymbolic.IntervalBetweenStrongestPitchClassesFeature,\n",
    "         music21.features.jSymbolic.InitialTempoFeature,\n",
    "         music21.features.jSymbolic.MaximumNumberOfIndependentVoicesFeature,\n",
    "         music21.features.jSymbolic.MelodicFifthsFeature,\n",
    "         music21.features.jSymbolic.MelodicIntervalHistogramFeature,\n",
    "         music21.features.jSymbolic.MelodicThirdsFeature,\n",
    "         music21.features.jSymbolic.MelodicTritonesFeature,\n",
    "         music21.features.jSymbolic.MostCommonMelodicIntervalFeature,\n",
    "         music21.features.jSymbolic.MostCommonPitchClassFeature,\n",
    "         music21.features.jSymbolic.PitchClassDistributionFeature,\n",
    "         music21.features.jSymbolic.PitchClassVarietyFeature,\n",
    "         music21.features.jSymbolic.PrimaryRegisterFeature,\n",
    "         music21.features.jSymbolic.QualityFeature,\n",
    "         music21.features.jSymbolic.RepeatedNotesFeature,\n",
    "         music21.features.jSymbolic.SizeOfMelodicArcsFeature,\n",
    "         music21.features.jSymbolic.StaccatoIncidenceFeature,\n",
    "         music21.features.jSymbolic.StepwiseMotionFeature]\n",
    "    \n",
    "    ds.addFeatureExtractors(f)\n",
    "    ds.addData(s)\n",
    "    ds.process()\n",
    "    features = np.array([])\n",
    "    features = np.append(features, ds.getFeaturesAsList(concatenateLists=True))\n",
    "    features = features[1:-1]\n",
    "    features = [float(i) for i in features]\n",
    "    \n",
    "    if df.at[filename, 'split'] == 'train':\n",
    "        X_train.append(features)\n",
    "        y_train.append(classes.index(df.at[filename, classifier]))\n",
    "    elif df.at[filename, 'split'] == 'validation':\n",
    "        X_validation.append(features)\n",
    "        y_validation.append(classes.index(df.at[filename, classifier]))\n",
    "    elif df.at[filename, 'split'] == 'test':\n",
    "        X_test.append(features)\n",
    "        y_test.append(classes.index(df.at[filename, classifier]))\n",
    "\n",
    "X_train = np.array(X_train) \n",
    "X_validation = np.array(X_validation)\n",
    "X_test = np.array(X_test)\n",
    "y_train = np.array(y_train)\n",
    "y_validation = np.array(y_validation)\n",
    "y_test = np.array(y_test)"
   ]
  },
  {
   "cell_type": "code",
   "execution_count": 12,
   "metadata": {},
   "outputs": [],
   "source": [
    "# Saving pickle files so that we don't run the above cell every time.\n",
    "\n",
    "with open('X_train.pickle', 'wb') as output:\n",
    "    pickle.dump(X_train, output)\n",
    "\n",
    "with open('X_test.pickle', 'wb') as output:\n",
    "    pickle.dump(X_test, output)\n",
    "    \n",
    "with open('X_validation.pickle', 'wb') as output:\n",
    "    pickle.dump(X_validation, output)\n",
    "\n",
    "with open('y_train.pickle', 'wb') as output:\n",
    "    pickle.dump(y_train, output)\n",
    "    \n",
    "with open('y_test.pickle', 'wb') as output:\n",
    "    pickle.dump(y_test, output)\n",
    "    \n",
    "with open('y_validation.pickle', 'wb') as output:\n",
    "    pickle.dump(y_validation, output)"
   ]
  },
  {
   "cell_type": "code",
   "execution_count": 166,
   "metadata": {
    "scrolled": true
   },
   "outputs": [
    {
     "name": "stdout",
     "output_type": "stream",
     "text": [
      "(1104, 313)\n",
      "(1104,)\n",
      "(137, 313)\n",
      "(137,)\n",
      "(178, 313)\n",
      "(178,)\n"
     ]
    }
   ],
   "source": [
    "print(X_train.shape)\n",
    "print(y_train.shape)\n",
    "print(X_validation.shape)\n",
    "print(y_validation.shape)\n",
    "print(X_test.shape)\n",
    "print(y_test.shape)"
   ]
  }
 ],
 "metadata": {
  "kernelspec": {
   "display_name": "Python 3",
   "language": "python",
   "name": "python3"
  },
  "language_info": {
   "codemirror_mode": {
    "name": "ipython",
    "version": 3
   },
   "file_extension": ".py",
   "mimetype": "text/x-python",
   "name": "python",
   "nbconvert_exporter": "python",
   "pygments_lexer": "ipython3",
   "version": "3.8.3"
  }
 },
 "nbformat": 4,
 "nbformat_minor": 4
}
